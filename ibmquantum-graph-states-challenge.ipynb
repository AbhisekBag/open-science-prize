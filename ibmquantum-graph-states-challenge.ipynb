{
 "cells": [
  {
   "cell_type": "markdown",
   "metadata": {},
   "source": [
    "![image](dependencies/open-science-prize.png)"
   ]
  },
  {
   "cell_type": "markdown",
   "metadata": {},
   "source": [
    "## Higher Fidelity Graph States\n",
    "In this notebook, we will prepare quantum circuits for a 7-qubit graph state and estimate the fidelity through stabilizer measurements using Qiskit. In this example, we use the CTMP method of error mitigation [1] and repeat the graph state measurement 16 times to find statistical error bars.\n",
    "\n",
    "**To Do:\n",
    "Modify the graph state preparation circuit or use your own methods of error mitigation to improve the graph state fidelity.**\n",
    "\n",
    "\n",
    "[1] S. Bravyi, S. Sheldon, A. Kandala, D.C. McKay, J.M. Gambetta, Mitigating measurement errors in multi-qubit experiments, [arXiv:2006.14044](https://arxiv.org/abs/2006.14044) (2020)."
   ]
  },
  {
   "cell_type": "markdown",
   "metadata": {},
   "source": [
    "## Imports\n",
    "\n",
    "Begin by importing the necessary packages and defining the functions we will need for the stabilizer measurements."
   ]
  },
  {
   "cell_type": "code",
   "execution_count": null,
   "metadata": {
    "scrolled": false
   },
   "outputs": [],
   "source": [
    "### install Qiskit and other modules if you don't have them already\n",
    "!pip install -r dependencies/requirements.txt --quiet"
   ]
  },
  {
   "cell_type": "code",
   "execution_count": null,
   "metadata": {},
   "outputs": [],
   "source": [
    "# Qiskit module\n",
    "from qiskit import QuantumCircuit\n",
    "import qiskit.circuit.library as circuit_library\n",
    "import qiskit.quantum_info as qi\n",
    "import qiskit.ignis.mitigation as mit\n",
    "\n",
    "# Qiskit tools for noisy simulation\n",
    "from qiskit.providers.aer import QasmSimulator\n",
    "from qiskit.providers.aer.noise import NoiseModel\n",
    "from qiskit.providers.aer.utils import insert_noise\n",
    "\n",
    "# Qiskit tools for running and monitoring jobs\n",
    "from qiskit import execute\n",
    "from qiskit.tools.monitor import job_monitor\n",
    "\n",
    "# Other imports\n",
    "import numpy as np\n",
    "\n",
    "# Suppress warnings\n",
    "import warnings\n",
    "warnings.filterwarnings('ignore')"
   ]
  },
  {
   "cell_type": "markdown",
   "metadata": {},
   "source": [
    "In order to run the circuits, first load the backend `ibmq_casablanca` from your account using the `IBMQ` provider."
   ]
  },
  {
   "cell_type": "code",
   "execution_count": null,
   "metadata": {},
   "outputs": [],
   "source": [
    "# Load IBMQ Account data\n",
    "from qiskit import IBMQ\n",
    "IBMQ.load_account()\n",
    "\n",
    "# Get backend for experiment\n",
    "provider = IBMQ.get_provider(hub='your_hub_here', group='your_group_here', project='your_project_here')\n",
    "\n",
    "backend = provider.get_backend('ibmq_casablanca')\n",
    "properties = backend.properties()"
   ]
  },
  {
   "cell_type": "markdown",
   "metadata": {},
   "source": [
    "## Preparing graph states"
   ]
  },
  {
   "cell_type": "markdown",
   "metadata": {},
   "source": [
    "Here, we prepare the graph state circuit for 7-qubits using the `GraphState` function in Qiskit's circuit library. We define a graph that uses the connectivity map of the quantum system `ibmq_casablanca`."
   ]
  },
  {
   "cell_type": "code",
   "execution_count": null,
   "metadata": {},
   "outputs": [],
   "source": [
    "num_qubits = 7\n",
    "\n",
    "# adjacency matrix for `ibmq_casablanca`\n",
    "adjmat = [\n",
    "    [0, 1, 0, 0, 0, 0, 0], \n",
    "    [1, 0, 1, 1, 0, 0, 0], \n",
    "    [0, 1, 0, 0, 0, 0, 0], \n",
    "    [0, 1, 0, 0, 0, 1, 0], \n",
    "    [0, 0, 0, 0, 0, 1, 0], \n",
    "    [0, 0, 0, 1, 1, 0, 1], \n",
    "    [0, 0, 0, 0, 0, 1, 0]]"
   ]
  },
  {
   "cell_type": "markdown",
   "metadata": {},
   "source": [
    "### Your code goes here\n",
    "\n",
    "How would you prepare a graph state with high fidelity? In the example below, we create it using Qiskit's circuit library at the gate level. You may explore other methods for creating the graph states, including by using pulse-level techniques or accounting for the errors in the quantum system."
   ]
  },
  {
   "cell_type": "code",
   "execution_count": null,
   "metadata": {},
   "outputs": [],
   "source": [
    "def create_graph_state():\n",
    "    \n",
    "    ### YOUR CODE GOES HERE -- START\n",
    "    \n",
    "    graph_state_circuit = circuit_library.GraphState(adjmat)\n",
    "    \n",
    "    ### YOUR CODE GOES HERE -- END\n",
    "    \n",
    "    return graph_state_circuit"
   ]
  },
  {
   "cell_type": "code",
   "execution_count": null,
   "metadata": {},
   "outputs": [],
   "source": [
    "# the graph state can be created using Qiskit's circuit library\n",
    "state_circuit = create_graph_state()\n",
    "state_circuit.draw()"
   ]
  },
  {
   "cell_type": "markdown",
   "metadata": {},
   "source": [
    "## Creating and measuring stabilizers"
   ]
  },
  {
   "cell_type": "markdown",
   "metadata": {},
   "source": [
    "We begin by defining functions to create stabilizer measurement circuits, and then appending them onto the circuit used to create the graph states."
   ]
  },
  {
   "cell_type": "code",
   "execution_count": null,
   "metadata": {},
   "outputs": [],
   "source": [
    "def compute_stabilizer_group(circuit):\n",
    "    \"\"\"Compute the stabilizer group for stabilizer circuit.\"\"\"\n",
    "    state = qi.Statevector.from_instruction(circuit)\n",
    "    labels = []\n",
    "    for i in qi.pauli_basis(state.num_qubits):\n",
    "        val = round(qi.state_fidelity(i.to_matrix()[0], state, validate=False))\n",
    "        if val != 0:\n",
    "            label = i.to_labels()[0]\n",
    "            if val == 1:\n",
    "                label = '+' + label\n",
    "            else:\n",
    "                label = '-' + label\n",
    "            labels.append(label)\n",
    "    return labels\n",
    "\n",
    "def stabilizer_coeff_pauli(stabilizer):\n",
    "    \"\"\"Return the 1 or -1 coeff and Pauli label.\"\"\"\n",
    "    coeff = 1\n",
    "    pauli = coeff\n",
    "    if stabilizer[0] == '-':\n",
    "        coeff = -1\n",
    "    if stabilizer[0] in ['+', '-']:\n",
    "        pauli = stabilizer[1:]\n",
    "    else:\n",
    "        pauli = stabilizer\n",
    "    return coeff, pauli\n",
    "\n",
    "def stabilizer_measure_circuit(stabilizer, initial_circuit=None):\n",
    "    \"\"\"Return a stabilizer measurement circuits.\n",
    "    \n",
    "    Args:\n",
    "        stabilizer (str): a stabilizer string\n",
    "        initial_circuit (QuantumCircuit): Optional, the initial circuit.\n",
    "    \n",
    "    Returns:\n",
    "        QuantumCircuit: the circuit with stabilizer measurements.\n",
    "    \"\"\"\n",
    "    _, pauli = stabilizer_coeff_pauli(stabilizer)\n",
    "    if initial_circuit is None:\n",
    "        circ = QuantumCircuit(len(pauli))\n",
    "    else:\n",
    "        circ = initial_circuit.copy()\n",
    "    for i, s in enumerate(reversed(pauli)):\n",
    "        if s == 'X':\n",
    "            circ.h(i)\n",
    "        if s == 'Y':\n",
    "            circ.sdg(i)\n",
    "            circ.h(i)\n",
    "    circ.measure_all()\n",
    "    return circ"
   ]
  },
  {
   "cell_type": "code",
   "execution_count": null,
   "metadata": {},
   "outputs": [],
   "source": [
    "## Compute the stabilizers for this graph state\n",
    "generators = qi.Clifford(state_circuit).stabilizer.pauli.to_labels()\n",
    "stabilizers = compute_stabilizer_group(state_circuit)\n",
    "print('Stabilizers:', stabilizers)\n",
    "print('Generators:', generators)"
   ]
  },
  {
   "cell_type": "code",
   "execution_count": null,
   "metadata": {},
   "outputs": [],
   "source": [
    "## Append the stabilizer measurements to the graph state circuit \n",
    "stabilizer_circuits = [stabilizer_measure_circuit(stab, state_circuit)\n",
    "                       for stab in stabilizers]\n",
    "\n",
    "stabilizer_circuits[0].draw()"
   ]
  },
  {
   "cell_type": "markdown",
   "metadata": {},
   "source": [
    "## Measurement mitigation\n",
    "\n",
    "Noisy measurements impact our ability to accurately measure the state fidelity. For our default example we calibrate our measurements for the CTMP method using states with two-qubit excitations."
   ]
  },
  {
   "cell_type": "code",
   "execution_count": null,
   "metadata": {},
   "outputs": [],
   "source": [
    "labels = ['0000000', '0000011', '0000101', \n",
    "          '0001001', '0001010', '0001100', \n",
    "          '0010001', '0010010', '0010100', '0011000', \n",
    "          '0100001', '0100010', '0100100', '0101000', '0110000', \n",
    "          '1000001', '1000010', '1000100', '1001000', '1010000', '1100000', \n",
    "          '1111111']\n",
    "meas_cal_circuits, metadata = mit.expval_meas_mitigator_circuits(num_qubits, labels=labels)"
   ]
  },
  {
   "cell_type": "code",
   "execution_count": null,
   "metadata": {},
   "outputs": [],
   "source": [
    "[meas_cal_circuits_full, state_labels] = mit.complete_meas_cal(range(num_qubits))"
   ]
  },
  {
   "cell_type": "markdown",
   "metadata": {},
   "source": [
    "## Run the circuits"
   ]
  },
  {
   "cell_type": "markdown",
   "metadata": {},
   "source": [
    "We will run the circuits on the `ibmq_casablanca` quantum system."
   ]
  },
  {
   "cell_type": "markdown",
   "metadata": {},
   "source": [
    "In order to debug more quickly and avoid queues, you may consider using a simulator backend modeled after the real quantum system. This will use the noise model of `ibmq_casablanca` to do simulations. **Note that the fidelities of your graph states will generally be higher on the simulator, but the Open Science Prize is awarded for the best fidelities on the real quantum system.**"
   ]
  },
  {
   "cell_type": "code",
   "execution_count": null,
   "metadata": {},
   "outputs": [],
   "source": [
    "backend = QasmSimulator.from_backend(provider.get_backend('ibmq_casablanca'))"
   ]
  },
  {
   "cell_type": "markdown",
   "metadata": {},
   "source": [
    "We run the measurement calibration circuits in a separate job from the graph state circuits.  We repeat both 16 times and use the mean as the final value. \n",
    "\n",
    "In order to debug more quickly, you may consider reducing `reps` from 16 to 1. **Note that the final submissions will need to be executed with 16 repetitions.**"
   ]
  },
  {
   "cell_type": "code",
   "execution_count": null,
   "metadata": {},
   "outputs": [],
   "source": [
    "reps = 16"
   ]
  },
  {
   "cell_type": "code",
   "execution_count": null,
   "metadata": {
    "scrolled": false
   },
   "outputs": [],
   "source": [
    "all_jobs = []\n",
    "all_jobs_mit = []\n",
    "\n",
    "for ii in range(reps):\n",
    "\n",
    "    # Run QPT on backend\n",
    "    shots = 8192\n",
    "    il = [0,1,2,3,4,5,6]\n",
    "    \n",
    "    job_backend = execute(stabilizer_circuits, backend, shots=shots, initial_layout=il)\n",
    "    job_mit_backend = execute(meas_cal_circuits, backend, shots=shots, initial_layout=il)\n",
    "    print('Job IDs ({}/{}): \\n measurement calibration: {}\\n stabilizer measurements: {}'.format(\n",
    "        ii+1, reps, job_mit_backend.job_id(), job_backend.job_id()))\n",
    "\n",
    "    all_jobs.append(job_backend)\n",
    "    all_jobs_mit.append(job_mit_backend)"
   ]
  },
  {
   "cell_type": "markdown",
   "metadata": {},
   "source": [
    "We can monitor the status of the jobs using Qiskit's job monitoring tools."
   ]
  },
  {
   "cell_type": "code",
   "execution_count": null,
   "metadata": {},
   "outputs": [],
   "source": [
    "for job in all_jobs:\n",
    "    job_monitor(job)\n",
    "    try:\n",
    "        if job.error_message() is not None:\n",
    "            print(job.error_message())\n",
    "    except:\n",
    "        pass"
   ]
  },
  {
   "cell_type": "markdown",
   "metadata": {},
   "source": [
    "## Post-processing and computing fidelities"
   ]
  },
  {
   "cell_type": "markdown",
   "metadata": {},
   "source": [
    "Once the jobs are completed, we can get the results back as follows."
   ]
  },
  {
   "cell_type": "code",
   "execution_count": null,
   "metadata": {},
   "outputs": [],
   "source": [
    "result_backend = []\n",
    "result_mit_backend = []\n",
    "for job in all_jobs:\n",
    "    # Retrieve results (this may take a while depending on the queue)\n",
    "    result_backend.append(job.result())\n",
    "    \n",
    "for job in all_jobs_mit:\n",
    "    result_mit_backend.append(job.result())"
   ]
  },
  {
   "cell_type": "markdown",
   "metadata": {},
   "source": [
    "Finally, we compute the fidelities of the graph states. You may consider creating your own method for error mitigation by updating the `stabilizer_expvals` function below. Here, we will use the default methods provided in Qiskit."
   ]
  },
  {
   "cell_type": "code",
   "execution_count": null,
   "metadata": {},
   "outputs": [],
   "source": [
    "def stabilizer_measure_diagonal(stabilizer):\n",
    "    \"\"\"Return the diagonal vector for a stabilizer measurement.\n",
    "    \n",
    "    Args:\n",
    "        stabilizer (str): a stabilizer string\n",
    "    \n",
    "    Returns:\n",
    "        np.ndarray: the diagonal for measurement in the stabilizer basis.\n",
    "    \"\"\"\n",
    "    coeff, pauli = stabilizer_coeff_pauli(stabilizer)\n",
    "    diag = np.array([1])\n",
    "    for s in reversed(pauli):\n",
    "        if s == 'I':\n",
    "            tmp = np.array([1, 1])\n",
    "        else:\n",
    "            tmp = np.array([1, -1])\n",
    "        diag = np.kron(tmp, diag)\n",
    "    return coeff * diag\n",
    "    \n",
    "def stabilizer_fidelity(expvals, stddevs=None):\n",
    "    \"\"\"Compute stabilizer state fidelity from stabilizer expvals.\"\"\"\n",
    "    mean = np.mean(expvals)\n",
    "    if stddevs is None:\n",
    "        return mean\n",
    "    stddev = np.sqrt(np.sum(stddevs ** 2))\n",
    "    return mean, stddev"
   ]
  },
  {
   "cell_type": "markdown",
   "metadata": {},
   "source": [
    "### Your code goes here\n",
    "\n",
    "You may consider updating the function below to change how the measurement calibration circuits are used to compute the fidelity of the graph state."
   ]
  },
  {
   "cell_type": "code",
   "execution_count": null,
   "metadata": {},
   "outputs": [],
   "source": [
    "def stabilizer_expvals(result, stabilizers, meas_mitigator=None):\n",
    "    \"\"\"Compute expectation values from stabilizer measurement results.\"\"\"\n",
    "\n",
    "    ### YOUR CODE GOES HERE -- START\n",
    "    \n",
    "    expvals = []\n",
    "    stddevs = []\n",
    "    for i, stab in enumerate(stabilizers):\n",
    "        expval, stddev = mit.expectation_value(\n",
    "            result.get_counts(i),\n",
    "            diagonal=stabilizer_measure_diagonal(stab),\n",
    "            meas_mitigator=meas_mitigator)\n",
    "        expvals.append(expval)\n",
    "        stddevs.append(stddev)\n",
    "    return np.array(expvals), np.array(stddevs)\n",
    "\n",
    "    ### YOUR CODE GOES HERE -- END"
   ]
  },
  {
   "cell_type": "code",
   "execution_count": null,
   "metadata": {},
   "outputs": [],
   "source": [
    "## Mitigate the stabilizer expectation values \n",
    "F_nomit_backend = []\n",
    "F_mit_backend = []\n",
    "\n",
    "for ii in range(reps):\n",
    "    # Unmitigated Expectation Values\n",
    "    expvals_nomit_b, stddevs_nomit_b = stabilizer_expvals(\n",
    "        result_backend[ii], stabilizers)\n",
    "  \n",
    "    # Fit measurement error mitigators\n",
    "    mitigator_backend = mit.ExpvalMeasMitigatorFitter(result_mit_backend[ii], metadata).fit()\n",
    "\n",
    "    # Measurement error mitigated expectation values\n",
    "    expvals_mit_b, stddevs_mit_b = stabilizer_expvals(\n",
    "        result_backend[ii], stabilizers, meas_mitigator=mitigator_backend)\n",
    "    \n",
    "    # save the fidelities for this iteration\n",
    "    F_nomit_backend.append(stabilizer_fidelity(expvals_nomit_b, stddevs_nomit_b)[0])\n",
    "    F_mit_backend.append(stabilizer_fidelity(expvals_mit_b, stddevs_mit_b)[0])"
   ]
  },
  {
   "cell_type": "markdown",
   "metadata": {},
   "source": [
    "Report the fidelity estimates."
   ]
  },
  {
   "cell_type": "code",
   "execution_count": null,
   "metadata": {},
   "outputs": [],
   "source": [
    "## The final results\n",
    "\n",
    "print('Graph-state fidelity estimates')\n",
    "print('\\nNo mitigation')\n",
    "print('F({}) = {:.3f} \\u00B1 {:.3f}'.format(\n",
    "    properties.backend_name, np.mean(F_nomit_backend), np.std(F_nomit_backend)))\n",
    "\n",
    "print('\\nCTMP error mitigation')\n",
    "print('F({}) = {:.3f} \\u00B1 {:.3f}'.format(\n",
    "    properties.backend_name, np.mean(F_mit_backend), np.std(F_mit_backend)))"
   ]
  },
  {
   "cell_type": "markdown",
   "metadata": {},
   "source": [
    "## Qiskit version"
   ]
  },
  {
   "cell_type": "code",
   "execution_count": null,
   "metadata": {},
   "outputs": [],
   "source": [
    "import qiskit.tools.jupyter\n",
    "%qiskit_version_table"
   ]
  }
 ],
 "metadata": {
  "kernelspec": {
   "display_name": "Python 3",
   "language": "python",
   "name": "python3"
  },
  "language_info": {
   "codemirror_mode": {
    "name": "ipython",
    "version": 3
   },
   "file_extension": ".py",
   "mimetype": "text/x-python",
   "name": "python",
   "nbconvert_exporter": "python",
   "pygments_lexer": "ipython3",
   "version": "3.7.6"
  }
 },
 "nbformat": 4,
 "nbformat_minor": 4
}
